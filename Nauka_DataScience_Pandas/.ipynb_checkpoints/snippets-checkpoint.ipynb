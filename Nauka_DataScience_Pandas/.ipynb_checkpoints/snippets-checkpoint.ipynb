{
 "cells": [
  {
   "cell_type": "code",
   "execution_count": 1,
   "id": "26d6d5b5",
   "metadata": {},
   "outputs": [],
   "source": [
    "people = {\n",
    "    \"first_name\": [\"Mark\", 'John', 'Jane', 'John'], \n",
    "    \"last_name\": [\"Wayne\", 'Kowalski', 'Doe', 'Doe'], \n",
    "    \"email\": ['MarkWayne@email.com', \"JohnKowalski@email.com\", 'JaneDoe@email.com', 'JohnDoe@email.com']\n",
    "}\n",
    "import pandas as pd\n",
    "df = pd.DataFrame(people)\n",
    "# df = pd.read_csv('survey_results_public.csv', index_col='ResponseId')\n",
    "# schema_df = pd.read_csv('survey_results_schema.csv', index_col='qid')\n",
    "# df czyli data frame tworzymy z bazy danych albo wpisanych manualnie jw lub importując z plików np csv\n"
   ]
  },
  {
   "cell_type": "code",
   "execution_count": 2,
   "id": "f7031996",
   "metadata": {},
   "outputs": [
    {
     "data": {
      "text/plain": [
       "Index(['first_name', 'last_name', 'email'], dtype='object')"
      ]
     },
     "execution_count": 2,
     "metadata": {},
     "output_type": "execute_result"
    }
   ],
   "source": [
    "df.columns"
   ]
  },
  {
   "cell_type": "code",
   "execution_count": null,
   "id": "c761d0e3",
   "metadata": {},
   "outputs": [],
   "source": []
  },
  {
   "cell_type": "code",
   "execution_count": null,
   "id": "42990be2",
   "metadata": {},
   "outputs": [],
   "source": []
  }
 ],
 "metadata": {
  "kernelspec": {
   "display_name": "Python 3 (ipykernel)",
   "language": "python",
   "name": "python3"
  },
  "language_info": {
   "codemirror_mode": {
    "name": "ipython",
    "version": 3
   },
   "file_extension": ".py",
   "mimetype": "text/x-python",
   "name": "python",
   "nbconvert_exporter": "python",
   "pygments_lexer": "ipython3",
   "version": "3.9.6"
  }
 },
 "nbformat": 4,
 "nbformat_minor": 5
}
