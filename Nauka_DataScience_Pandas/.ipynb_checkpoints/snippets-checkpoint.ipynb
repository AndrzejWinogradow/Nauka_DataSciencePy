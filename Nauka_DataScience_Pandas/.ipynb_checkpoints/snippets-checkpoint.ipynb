{
 "cells": [
  {
   "cell_type": "code",
   "execution_count": 1,
   "id": "e2852880",
   "metadata": {},
   "outputs": [],
   "source": [
    "people = {\n",
    "    \"first_name\": [\"Mark\", 'John', 'Jane', 'John'], \n",
    "    \"last_name\": [\"Wayne\", 'Kowalski', 'Doe', 'Doe'], \n",
    "    \"email\": ['MarkWayne@email.com', \"JohnKowalski@email.com\", 'JaneDoe@email.com', 'JohnDoe@email.com'],\n",
    "    \"salary\":[120000, 80000, 60000, 20000]\n",
    "}\n",
    "\n",
    "import pandas as pd\n",
    "\n",
    "df = pd.DataFrame(people)\n",
    "# df = pd.read_csv('survey_results_public.csv', index_col='ResponseId')\n",
    "# schema_df = pd.read_csv('survey_results_schema.csv', index_col='qid')\n",
    "# df czyli data frame tworzymy z bazy danych albo wpisanych manualnie jw lub importując z plików np csv\n",
    "# manualnie robimy to tworząc dictionary {} a wewnątrz wartości w postaci list []\n",
    "# index_col='x' ustawia od razu daną kolumne jako index"
   ]
  },
  {
   "cell_type": "code",
   "execution_count": 2,
   "id": "22eb0426",
   "metadata": {},
   "outputs": [],
   "source": [
    "pd.set_option('display.max_columns', 85)\n",
    "\n",
    "pd.set_option('display.max_rows', 85)\n",
    "# gdy jest duza liczba kolumn/wierszy pandas z default ogranicza ich wyświetlanie, tak możemy to zmienić"
   ]
  },
  {
   "cell_type": "code",
   "execution_count": 3,
   "id": "8dda46b3",
   "metadata": {},
   "outputs": [
    {
     "name": "stdout",
     "output_type": "stream",
     "text": [
      "<class 'pandas.core.frame.DataFrame'>\n",
      "RangeIndex: 4 entries, 0 to 3\n",
      "Data columns (total 4 columns):\n",
      " #   Column      Non-Null Count  Dtype \n",
      "---  ------      --------------  ----- \n",
      " 0   first_name  4 non-null      object\n",
      " 1   last_name   4 non-null      object\n",
      " 2   email       4 non-null      object\n",
      " 3   salary      4 non-null      int64 \n",
      "dtypes: int64(1), object(3)\n",
      "memory usage: 256.0+ bytes\n"
     ]
    }
   ],
   "source": [
    "# !!! tego typu kod musi być w osobnych komórkach, albo wykonana zostanie tylko ostatnia linia kodu !!!\n",
    "\n",
    "df.columns\n",
    "# wyświetla nazwy kolumn i ich dtype\n",
    "\n",
    "df.shape\n",
    "# pozakuje liczbe kolumn i wierszy\n",
    "# shape jest atribute a nie method więc bez () na końcu\n",
    "\n",
    "df.info()\n",
    "# a to jest method, więc stosujemy ()"
   ]
  },
  {
   "cell_type": "code",
   "execution_count": 4,
   "id": "a73e30d2",
   "metadata": {},
   "outputs": [
    {
     "data": {
      "text/html": [
       "<div>\n",
       "<style scoped>\n",
       "    .dataframe tbody tr th:only-of-type {\n",
       "        vertical-align: middle;\n",
       "    }\n",
       "\n",
       "    .dataframe tbody tr th {\n",
       "        vertical-align: top;\n",
       "    }\n",
       "\n",
       "    .dataframe thead th {\n",
       "        text-align: right;\n",
       "    }\n",
       "</style>\n",
       "<table border=\"1\" class=\"dataframe\">\n",
       "  <thead>\n",
       "    <tr style=\"text-align: right;\">\n",
       "      <th></th>\n",
       "      <th>email</th>\n",
       "      <th>last_name</th>\n",
       "    </tr>\n",
       "  </thead>\n",
       "  <tbody>\n",
       "    <tr>\n",
       "      <th>0</th>\n",
       "      <td>MarkWayne@email.com</td>\n",
       "      <td>Wayne</td>\n",
       "    </tr>\n",
       "    <tr>\n",
       "      <th>1</th>\n",
       "      <td>JohnKowalski@email.com</td>\n",
       "      <td>Kowalski</td>\n",
       "    </tr>\n",
       "    <tr>\n",
       "      <th>2</th>\n",
       "      <td>JaneDoe@email.com</td>\n",
       "      <td>Doe</td>\n",
       "    </tr>\n",
       "    <tr>\n",
       "      <th>3</th>\n",
       "      <td>JohnDoe@email.com</td>\n",
       "      <td>Doe</td>\n",
       "    </tr>\n",
       "  </tbody>\n",
       "</table>\n",
       "</div>"
      ],
      "text/plain": [
       "                    email last_name\n",
       "0     MarkWayne@email.com     Wayne\n",
       "1  JohnKowalski@email.com  Kowalski\n",
       "2       JaneDoe@email.com       Doe\n",
       "3       JohnDoe@email.com       Doe"
      ]
     },
     "execution_count": 4,
     "metadata": {},
     "output_type": "execute_result"
    }
   ],
   "source": [
    "df.head(2)\n",
    "\n",
    "df.tail(2)\n",
    "# wyświetla pierwszych/ostatnich x wierszy. () bez podanej wartośc 5 wierszy\n",
    "\n",
    "df[['email', 'last_name']]\n",
    "# podwójne nawiasy kwadratowe, wyświetla daną kolumnę lub zakres kolumn, wtedy od'x':do'y'"
   ]
  },
  {
   "cell_type": "code",
   "execution_count": 5,
   "id": "1e65d6ee",
   "metadata": {},
   "outputs": [
    {
     "data": {
      "text/plain": [
       "0       MarkWayne@email.com\n",
       "1    JohnKowalski@email.com\n",
       "2         JaneDoe@email.com\n",
       "3         JohnDoe@email.com\n",
       "Name: email, dtype: object"
      ]
     },
     "execution_count": 5,
     "metadata": {},
     "output_type": "execute_result"
    }
   ],
   "source": [
    "df.email\n",
    "# dokładnie ten sam efekt co komenda df['email']\n",
    "# wersja df['x'] lepsza, gdyż nazwa kolumny może byc taka sama jak method np df.count"
   ]
  },
  {
   "cell_type": "code",
   "execution_count": 6,
   "id": "6ce89f6d",
   "metadata": {},
   "outputs": [
    {
     "data": {
      "text/plain": [
       "pandas.core.series.Series"
      ]
     },
     "execution_count": 6,
     "metadata": {},
     "output_type": "execute_result"
    }
   ],
   "source": [
    "type(df['email'])"
   ]
  },
  {
   "cell_type": "code",
   "execution_count": 7,
   "id": "a741b493",
   "metadata": {},
   "outputs": [
    {
     "data": {
      "text/html": [
       "<div>\n",
       "<style scoped>\n",
       "    .dataframe tbody tr th:only-of-type {\n",
       "        vertical-align: middle;\n",
       "    }\n",
       "\n",
       "    .dataframe tbody tr th {\n",
       "        vertical-align: top;\n",
       "    }\n",
       "\n",
       "    .dataframe thead th {\n",
       "        text-align: right;\n",
       "    }\n",
       "</style>\n",
       "<table border=\"1\" class=\"dataframe\">\n",
       "  <thead>\n",
       "    <tr style=\"text-align: right;\">\n",
       "      <th></th>\n",
       "      <th>email</th>\n",
       "      <th>last_name</th>\n",
       "    </tr>\n",
       "  </thead>\n",
       "  <tbody>\n",
       "    <tr>\n",
       "      <th>1</th>\n",
       "      <td>JohnKowalski@email.com</td>\n",
       "      <td>Kowalski</td>\n",
       "    </tr>\n",
       "    <tr>\n",
       "      <th>2</th>\n",
       "      <td>JaneDoe@email.com</td>\n",
       "      <td>Doe</td>\n",
       "    </tr>\n",
       "  </tbody>\n",
       "</table>\n",
       "</div>"
      ],
      "text/plain": [
       "                    email last_name\n",
       "1  JohnKowalski@email.com  Kowalski\n",
       "2       JaneDoe@email.com       Doe"
      ]
     },
     "execution_count": 7,
     "metadata": {},
     "output_type": "execute_result"
    }
   ],
   "source": [
    "df.iloc[[2]]\n",
    "# sposób na wydostanie wartości danego wiersza\n",
    "# w [] podajemy wartość indexu, indexem może być str np mail, wtedy df.iloc[JaneDoe@email.com]\n",
    "\n",
    "df.iloc[[1, 2], 1]\n",
    "# wyświetlanie danych wierszy w danych kolumnach, najpierw wiersze, potem kolumny\n",
    "\n",
    "df.loc[[1, 2], ['email', 'last_name']]\n",
    "# działa jak df.iloc ale podaje się nazwę(str) indexu(wiersza) i kolumny\n",
    "\n",
    "df.loc[1:2, ['email', 'last_name']]\n",
    "# gdy podajemy zakres wierszy/kolumn to nie jest to dodatkowa lista, więc [] mniej"
   ]
  },
  {
   "cell_type": "code",
   "execution_count": 8,
   "id": "75c0db87",
   "metadata": {},
   "outputs": [
    {
     "data": {
      "text/plain": [
       "John    2\n",
       "Mark    1\n",
       "Jane    1\n",
       "Name: first_name, dtype: int64"
      ]
     },
     "execution_count": 8,
     "metadata": {},
     "output_type": "execute_result"
    }
   ],
   "source": [
    "df['first_name'].value_counts()\n",
    "# podlicza ilość tych samych wartości w kolumnie x"
   ]
  },
  {
   "cell_type": "code",
   "execution_count": 9,
   "id": "56b6591f",
   "metadata": {},
   "outputs": [
    {
     "data": {
      "text/html": [
       "<div>\n",
       "<style scoped>\n",
       "    .dataframe tbody tr th:only-of-type {\n",
       "        vertical-align: middle;\n",
       "    }\n",
       "\n",
       "    .dataframe tbody tr th {\n",
       "        vertical-align: top;\n",
       "    }\n",
       "\n",
       "    .dataframe thead th {\n",
       "        text-align: right;\n",
       "    }\n",
       "</style>\n",
       "<table border=\"1\" class=\"dataframe\">\n",
       "  <thead>\n",
       "    <tr style=\"text-align: right;\">\n",
       "      <th></th>\n",
       "      <th>first_name</th>\n",
       "      <th>last_name</th>\n",
       "      <th>salary</th>\n",
       "    </tr>\n",
       "    <tr>\n",
       "      <th>email</th>\n",
       "      <th></th>\n",
       "      <th></th>\n",
       "      <th></th>\n",
       "    </tr>\n",
       "  </thead>\n",
       "  <tbody>\n",
       "    <tr>\n",
       "      <th>MarkWayne@email.com</th>\n",
       "      <td>Mark</td>\n",
       "      <td>Wayne</td>\n",
       "      <td>120000</td>\n",
       "    </tr>\n",
       "    <tr>\n",
       "      <th>JohnKowalski@email.com</th>\n",
       "      <td>John</td>\n",
       "      <td>Kowalski</td>\n",
       "      <td>80000</td>\n",
       "    </tr>\n",
       "    <tr>\n",
       "      <th>JaneDoe@email.com</th>\n",
       "      <td>Jane</td>\n",
       "      <td>Doe</td>\n",
       "      <td>60000</td>\n",
       "    </tr>\n",
       "    <tr>\n",
       "      <th>JohnDoe@email.com</th>\n",
       "      <td>John</td>\n",
       "      <td>Doe</td>\n",
       "      <td>20000</td>\n",
       "    </tr>\n",
       "  </tbody>\n",
       "</table>\n",
       "</div>"
      ],
      "text/plain": [
       "                       first_name last_name  salary\n",
       "email                                              \n",
       "MarkWayne@email.com          Mark     Wayne  120000\n",
       "JohnKowalski@email.com       John  Kowalski   80000\n",
       "JaneDoe@email.com            Jane       Doe   60000\n",
       "JohnDoe@email.com            John       Doe   20000"
      ]
     },
     "execution_count": 9,
     "metadata": {},
     "output_type": "execute_result"
    }
   ],
   "source": [
    "df.set_index(['email'], inplace=True)\n",
    "# ustawianie danej kolumny jako index, pomocne przy funkcjach df.loc[[]]\n",
    "# inplace=True zapisuje zmiany w dataframe\n",
    "df"
   ]
  },
  {
   "cell_type": "code",
   "execution_count": 10,
   "id": "431d02a4",
   "metadata": {},
   "outputs": [
    {
     "data": {
      "text/plain": [
       "Index(['MarkWayne@email.com', 'JohnKowalski@email.com', 'JaneDoe@email.com',\n",
       "       'JohnDoe@email.com'],\n",
       "      dtype='object', name='email')"
      ]
     },
     "execution_count": 10,
     "metadata": {},
     "output_type": "execute_result"
    }
   ],
   "source": [
    "df.index\n"
   ]
  },
  {
   "cell_type": "code",
   "execution_count": 11,
   "id": "f5aad25f",
   "metadata": {},
   "outputs": [
    {
     "data": {
      "text/html": [
       "<div>\n",
       "<style scoped>\n",
       "    .dataframe tbody tr th:only-of-type {\n",
       "        vertical-align: middle;\n",
       "    }\n",
       "\n",
       "    .dataframe tbody tr th {\n",
       "        vertical-align: top;\n",
       "    }\n",
       "\n",
       "    .dataframe thead th {\n",
       "        text-align: right;\n",
       "    }\n",
       "</style>\n",
       "<table border=\"1\" class=\"dataframe\">\n",
       "  <thead>\n",
       "    <tr style=\"text-align: right;\">\n",
       "      <th></th>\n",
       "      <th>first_name</th>\n",
       "      <th>last_name</th>\n",
       "      <th>salary</th>\n",
       "    </tr>\n",
       "    <tr>\n",
       "      <th>email</th>\n",
       "      <th></th>\n",
       "      <th></th>\n",
       "      <th></th>\n",
       "    </tr>\n",
       "  </thead>\n",
       "  <tbody>\n",
       "    <tr>\n",
       "      <th>MarkWayne@email.com</th>\n",
       "      <td>Mark</td>\n",
       "      <td>Wayne</td>\n",
       "      <td>120000</td>\n",
       "    </tr>\n",
       "    <tr>\n",
       "      <th>JohnKowalski@email.com</th>\n",
       "      <td>John</td>\n",
       "      <td>Kowalski</td>\n",
       "      <td>80000</td>\n",
       "    </tr>\n",
       "    <tr>\n",
       "      <th>JohnDoe@email.com</th>\n",
       "      <td>John</td>\n",
       "      <td>Doe</td>\n",
       "      <td>20000</td>\n",
       "    </tr>\n",
       "    <tr>\n",
       "      <th>JaneDoe@email.com</th>\n",
       "      <td>Jane</td>\n",
       "      <td>Doe</td>\n",
       "      <td>60000</td>\n",
       "    </tr>\n",
       "  </tbody>\n",
       "</table>\n",
       "</div>"
      ],
      "text/plain": [
       "                       first_name last_name  salary\n",
       "email                                              \n",
       "MarkWayne@email.com          Mark     Wayne  120000\n",
       "JohnKowalski@email.com       John  Kowalski   80000\n",
       "JohnDoe@email.com            John       Doe   20000\n",
       "JaneDoe@email.com            Jane       Doe   60000"
      ]
     },
     "execution_count": 11,
     "metadata": {},
     "output_type": "execute_result"
    }
   ],
   "source": [
    "df.sort_index(ascending=False)\n",
    "# szereguje index alfabetycznie (), trzeba dodać inplace=True by zmiany były pernamentne "
   ]
  },
  {
   "cell_type": "code",
   "execution_count": 12,
   "id": "71c7e237",
   "metadata": {},
   "outputs": [
    {
     "data": {
      "text/html": [
       "<div>\n",
       "<style scoped>\n",
       "    .dataframe tbody tr th:only-of-type {\n",
       "        vertical-align: middle;\n",
       "    }\n",
       "\n",
       "    .dataframe tbody tr th {\n",
       "        vertical-align: top;\n",
       "    }\n",
       "\n",
       "    .dataframe thead th {\n",
       "        text-align: right;\n",
       "    }\n",
       "</style>\n",
       "<table border=\"1\" class=\"dataframe\">\n",
       "  <thead>\n",
       "    <tr style=\"text-align: right;\">\n",
       "      <th></th>\n",
       "      <th>email</th>\n",
       "      <th>first_name</th>\n",
       "      <th>last_name</th>\n",
       "      <th>salary</th>\n",
       "    </tr>\n",
       "  </thead>\n",
       "  <tbody>\n",
       "    <tr>\n",
       "      <th>0</th>\n",
       "      <td>MarkWayne@email.com</td>\n",
       "      <td>Mark</td>\n",
       "      <td>Wayne</td>\n",
       "      <td>120000</td>\n",
       "    </tr>\n",
       "    <tr>\n",
       "      <th>1</th>\n",
       "      <td>JohnKowalski@email.com</td>\n",
       "      <td>John</td>\n",
       "      <td>Kowalski</td>\n",
       "      <td>80000</td>\n",
       "    </tr>\n",
       "    <tr>\n",
       "      <th>2</th>\n",
       "      <td>JaneDoe@email.com</td>\n",
       "      <td>Jane</td>\n",
       "      <td>Doe</td>\n",
       "      <td>60000</td>\n",
       "    </tr>\n",
       "    <tr>\n",
       "      <th>3</th>\n",
       "      <td>JohnDoe@email.com</td>\n",
       "      <td>John</td>\n",
       "      <td>Doe</td>\n",
       "      <td>20000</td>\n",
       "    </tr>\n",
       "  </tbody>\n",
       "</table>\n",
       "</div>"
      ],
      "text/plain": [
       "                    email first_name last_name  salary\n",
       "0     MarkWayne@email.com       Mark     Wayne  120000\n",
       "1  JohnKowalski@email.com       John  Kowalski   80000\n",
       "2       JaneDoe@email.com       Jane       Doe   60000\n",
       "3       JohnDoe@email.com       John       Doe   20000"
      ]
     },
     "execution_count": 12,
     "metadata": {},
     "output_type": "execute_result"
    }
   ],
   "source": [
    "df.reset_index(inplace=True)\n",
    "# przywraca numeryczny index\n",
    "df"
   ]
  },
  {
   "cell_type": "code",
   "execution_count": 13,
   "id": "485b2e44",
   "metadata": {},
   "outputs": [
    {
     "data": {
      "text/html": [
       "<div>\n",
       "<style scoped>\n",
       "    .dataframe tbody tr th:only-of-type {\n",
       "        vertical-align: middle;\n",
       "    }\n",
       "\n",
       "    .dataframe tbody tr th {\n",
       "        vertical-align: top;\n",
       "    }\n",
       "\n",
       "    .dataframe thead th {\n",
       "        text-align: right;\n",
       "    }\n",
       "</style>\n",
       "<table border=\"1\" class=\"dataframe\">\n",
       "  <thead>\n",
       "    <tr style=\"text-align: right;\">\n",
       "      <th></th>\n",
       "      <th>email</th>\n",
       "      <th>first_name</th>\n",
       "      <th>last_name</th>\n",
       "      <th>salary</th>\n",
       "    </tr>\n",
       "  </thead>\n",
       "  <tbody>\n",
       "    <tr>\n",
       "      <th>2</th>\n",
       "      <td>JaneDoe@email.com</td>\n",
       "      <td>Jane</td>\n",
       "      <td>Doe</td>\n",
       "      <td>60000</td>\n",
       "    </tr>\n",
       "    <tr>\n",
       "      <th>3</th>\n",
       "      <td>JohnDoe@email.com</td>\n",
       "      <td>John</td>\n",
       "      <td>Doe</td>\n",
       "      <td>20000</td>\n",
       "    </tr>\n",
       "  </tbody>\n",
       "</table>\n",
       "</div>"
      ],
      "text/plain": [
       "               email first_name last_name  salary\n",
       "2  JaneDoe@email.com       Jane       Doe   60000\n",
       "3  JohnDoe@email.com       John       Doe   20000"
      ]
     },
     "execution_count": 13,
     "metadata": {},
     "output_type": "execute_result"
    }
   ],
   "source": [
    "# metody filtrowania dataframe\n",
    "filt = (df['last_name'] == 'Doe')\n",
    "\n",
    "# komenda filt zwróci booliansy True/False danej komórki\n",
    "\n",
    "# inna mozliwość zapisu:\n",
    "# df.loc[filt]    \n",
    "# df[df['last_name'] == 'Doe'] \n",
    "# df.loc[df['last_name'] == 'Doe']\n",
    "# operatory and & i or | oraz <,>, >=, <=, !=\n",
    "# filt = (df['last_name'] == 'Doe') & (df['first_name'] == 'John')\n",
    "# filt = (df['last_name'] == 'Doe') | (df['first_name'] == 'John')\n",
    "# filt = (df['salary'] > 70000)\n",
    "\n",
    "\n",
    "df[~filt] \n",
    "# tylda powoduje odwrotność filtru df[filt]\n",
    "\n",
    "last_names = ['Doe', 'Neo', 'Treo']\n",
    "filt = df['last_name'].isin(last_names)\n",
    "\n",
    "# tworzymy listę last_names by wykorzystać metodę isin co znacząco upraszcza kod, alternatywa to \n",
    "# filt = (df['last_name'] == 'Doe') | (df['last_name'] == 'Neo') | (df['last_name'] == 'Treo')\n",
    "\n",
    "df[filt]\n",
    "\n",
    "# gdy potrzebujemy wydobyć dany str z większej ilości w komórce\n",
    "# filt = df['LanguageWorkedWith'].str.contains('Python', na=False)\n",
    "# na=False to konieczny atrybut metody str.contains reagujący na puste komórki NaN "
   ]
  },
  {
   "cell_type": "code",
   "execution_count": 14,
   "id": "4f8361ce",
   "metadata": {},
   "outputs": [
    {
     "data": {
      "text/plain": [
       "Index(['email', 'first_name', 'last_name', 'salary'], dtype='object')"
      ]
     },
     "execution_count": 14,
     "metadata": {},
     "output_type": "execute_result"
    }
   ],
   "source": [
    "# zmiany we wszystkich kolumnach\n",
    "\n",
    "# df.columns = ['first name', 'last name', 'email', 'salary']\n",
    "\n",
    "df.columns = [x.upper() for x in df.columns]\n",
    "# nagłówki kolumn upper\n",
    "df.columns = [x.lower() for x in df.columns]\n",
    "# nagłówki kolumn lower\n",
    "df.columns = df.columns.str.replace('_', ' ')\n",
    "# wszystkie znaki '_' zamienia na spację\n",
    "df.columns = df.columns.str.replace(' ', '_')\n",
    "# wszystkie znaki spacji zamienia na podkreslenie\n",
    "df.columns"
   ]
  },
  {
   "cell_type": "code",
   "execution_count": 18,
   "id": "c294cd0d",
   "metadata": {},
   "outputs": [
    {
     "data": {
      "text/plain": [
       "Index(['email', 'first_Name', 'last_name', 'salary'], dtype='object')"
      ]
     },
     "execution_count": 18,
     "metadata": {},
     "output_type": "execute_result"
    }
   ],
   "source": [
    "# zmiany w wybranych kolumnach\n",
    "\n",
    "df.rename(columns={'first_name': 'first_Name'}, inplace=True)\n",
    "# zmienia wybrane nazwy kolumn poprzez zmianę dictionary {} stara nazwa: nowa nazwa. inplace=True by zapisać zmiany\n",
    "df.columns"
   ]
  },
  {
   "cell_type": "code",
   "execution_count": 21,
   "id": "a7937959",
   "metadata": {},
   "outputs": [
    {
     "data": {
      "text/html": [
       "<div>\n",
       "<style scoped>\n",
       "    .dataframe tbody tr th:only-of-type {\n",
       "        vertical-align: middle;\n",
       "    }\n",
       "\n",
       "    .dataframe tbody tr th {\n",
       "        vertical-align: top;\n",
       "    }\n",
       "\n",
       "    .dataframe thead th {\n",
       "        text-align: right;\n",
       "    }\n",
       "</style>\n",
       "<table border=\"1\" class=\"dataframe\">\n",
       "  <thead>\n",
       "    <tr style=\"text-align: right;\">\n",
       "      <th></th>\n",
       "      <th>email</th>\n",
       "      <th>first_Name</th>\n",
       "      <th>last_name</th>\n",
       "      <th>salary</th>\n",
       "    </tr>\n",
       "  </thead>\n",
       "  <tbody>\n",
       "    <tr>\n",
       "      <th>0</th>\n",
       "      <td>MarkWayne@email.com</td>\n",
       "      <td>Mark</td>\n",
       "      <td>Wayne</td>\n",
       "      <td>120000</td>\n",
       "    </tr>\n",
       "    <tr>\n",
       "      <th>1</th>\n",
       "      <td>JohnSmith@email.com</td>\n",
       "      <td>John</td>\n",
       "      <td>Smith</td>\n",
       "      <td>80000</td>\n",
       "    </tr>\n",
       "    <tr>\n",
       "      <th>2</th>\n",
       "      <td>JaneDoe@email.com</td>\n",
       "      <td>Jane</td>\n",
       "      <td>Doe</td>\n",
       "      <td>60000</td>\n",
       "    </tr>\n",
       "    <tr>\n",
       "      <th>3</th>\n",
       "      <td>JohnDoe@email.com</td>\n",
       "      <td>John</td>\n",
       "      <td>Doe</td>\n",
       "      <td>20000</td>\n",
       "    </tr>\n",
       "  </tbody>\n",
       "</table>\n",
       "</div>"
      ],
      "text/plain": [
       "                 email first_Name last_name  salary\n",
       "0  MarkWayne@email.com       Mark     Wayne  120000\n",
       "1  JohnSmith@email.com       John     Smith   80000\n",
       "2    JaneDoe@email.com       Jane       Doe   60000\n",
       "3    JohnDoe@email.com       John       Doe   20000"
      ]
     },
     "execution_count": 21,
     "metadata": {},
     "output_type": "execute_result"
    }
   ],
   "source": [
    "# zmiany w całych wierszach\n",
    "\n",
    "df.loc[1] = ['JohnSmith@email.com', 'John', 'Smith', 80000]\n",
    "\n",
    "# podajemy nowe wartości kolejnych kolumn\n",
    "# df.at[1] = ['JohnSmith@email.com', 'John', 'Smith', 80000]\n",
    "# ten sam efekt\n",
    "\n",
    "df"
   ]
  },
  {
   "cell_type": "code",
   "execution_count": 22,
   "id": "f655ed60",
   "metadata": {},
   "outputs": [
    {
     "data": {
      "text/html": [
       "<div>\n",
       "<style scoped>\n",
       "    .dataframe tbody tr th:only-of-type {\n",
       "        vertical-align: middle;\n",
       "    }\n",
       "\n",
       "    .dataframe tbody tr th {\n",
       "        vertical-align: top;\n",
       "    }\n",
       "\n",
       "    .dataframe thead th {\n",
       "        text-align: right;\n",
       "    }\n",
       "</style>\n",
       "<table border=\"1\" class=\"dataframe\">\n",
       "  <thead>\n",
       "    <tr style=\"text-align: right;\">\n",
       "      <th></th>\n",
       "      <th>email</th>\n",
       "      <th>first_Name</th>\n",
       "      <th>last_name</th>\n",
       "      <th>salary</th>\n",
       "    </tr>\n",
       "  </thead>\n",
       "  <tbody>\n",
       "    <tr>\n",
       "      <th>0</th>\n",
       "      <td>MarkWayne@email.com</td>\n",
       "      <td>Mark</td>\n",
       "      <td>Wayne</td>\n",
       "      <td>120000</td>\n",
       "    </tr>\n",
       "    <tr>\n",
       "      <th>1</th>\n",
       "      <td>JohnKowalski@email.com</td>\n",
       "      <td>John</td>\n",
       "      <td>Kowalski</td>\n",
       "      <td>80000</td>\n",
       "    </tr>\n",
       "    <tr>\n",
       "      <th>2</th>\n",
       "      <td>JaneDoe@email.com</td>\n",
       "      <td>Jane</td>\n",
       "      <td>Doe</td>\n",
       "      <td>60000</td>\n",
       "    </tr>\n",
       "    <tr>\n",
       "      <th>3</th>\n",
       "      <td>JohnDoe@email.com</td>\n",
       "      <td>John</td>\n",
       "      <td>Doe</td>\n",
       "      <td>20000</td>\n",
       "    </tr>\n",
       "  </tbody>\n",
       "</table>\n",
       "</div>"
      ],
      "text/plain": [
       "                    email first_Name last_name  salary\n",
       "0     MarkWayne@email.com       Mark     Wayne  120000\n",
       "1  JohnKowalski@email.com       John  Kowalski   80000\n",
       "2       JaneDoe@email.com       Jane       Doe   60000\n",
       "3       JohnDoe@email.com       John       Doe   20000"
      ]
     },
     "execution_count": 22,
     "metadata": {},
     "output_type": "execute_result"
    }
   ],
   "source": [
    "# zmiany poszczególnych komórek w wierszach\n",
    "\n",
    "df.loc[1, ['last_name', 'email']] = ['Kowalski', 'JohnKowalski@email.com']\n",
    "\n",
    "# podajemy nowe wartości wybranych kolumn\n",
    "# df.at[1, ['last_name', 'email']] = ['Kowalski', 'JohnKowalski@email.com']\n",
    "# ten sam efekt\n",
    "\n",
    "df"
   ]
  },
  {
   "cell_type": "code",
   "execution_count": null,
   "id": "b21e44ad",
   "metadata": {},
   "outputs": [],
   "source": []
  }
 ],
 "metadata": {
  "kernelspec": {
   "display_name": "Python 3 (ipykernel)",
   "language": "python",
   "name": "python3"
  },
  "language_info": {
   "codemirror_mode": {
    "name": "ipython",
    "version": 3
   },
   "file_extension": ".py",
   "mimetype": "text/x-python",
   "name": "python",
   "nbconvert_exporter": "python",
   "pygments_lexer": "ipython3",
   "version": "3.9.6"
  }
 },
 "nbformat": 4,
 "nbformat_minor": 5
}
