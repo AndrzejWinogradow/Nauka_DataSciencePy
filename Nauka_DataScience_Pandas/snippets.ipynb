{
 "cells": [
  {
   "cell_type": "code",
   "execution_count": 1,
   "id": "bb8137cf",
   "metadata": {},
   "outputs": [],
   "source": [
    "people = {\n",
    "    \"first_name\": [\"Mark\", 'John', 'Jane', 'John'], \n",
    "    \"last_name\": [\"Wayne\", 'Kowalski', 'Doe', 'Doe'], \n",
    "    \"email\": ['MarkWayne@email.com', \"JohnKowalski@email.com\", 'JaneDoe@email.com', 'JohnDoe@email.com']\n",
    "}\n",
    "import pandas as pd\n",
    "df = pd.DataFrame(people)"
   ]
  },
  {
   "cell_type": "code",
   "execution_count": 4,
   "id": "774d8ad1",
   "metadata": {},
   "outputs": [
    {
     "data": {
      "text/plain": [
       "Index(['first_name', 'last_name', 'email'], dtype='object')"
      ]
     },
     "execution_count": 4,
     "metadata": {},
     "output_type": "execute_result"
    }
   ],
   "source": [
    "df.columns"
   ]
  },
  {
   "cell_type": "code",
   "execution_count": null,
   "id": "d1a82b53",
   "metadata": {},
   "outputs": [],
   "source": []
  }
 ],
 "metadata": {
  "kernelspec": {
   "display_name": "Python 3 (ipykernel)",
   "language": "python",
   "name": "python3"
  },
  "language_info": {
   "codemirror_mode": {
    "name": "ipython",
    "version": 3
   },
   "file_extension": ".py",
   "mimetype": "text/x-python",
   "name": "python",
   "nbconvert_exporter": "python",
   "pygments_lexer": "ipython3",
   "version": "3.9.6"
  }
 },
 "nbformat": 4,
 "nbformat_minor": 5
}
