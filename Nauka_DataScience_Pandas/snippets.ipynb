{
 "cells": [
  {
   "cell_type": "code",
   "execution_count": 1,
   "id": "e2852880",
   "metadata": {},
   "outputs": [],
   "source": [
    "people = {\n",
    "    \"first_name\": [\"Mark\", 'John', 'Jane', 'John'], \n",
    "    \"last_name\": [\"Wayne\", 'Kowalski', 'Doe', 'Doe'], \n",
    "    \"email\": ['MarkWayne@email.com', \"JohnKowalski@email.com\", 'JaneDoe@email.com', 'JohnDoe@email.com']\n",
    "}\n",
    "import pandas as pd\n",
    "df = pd.DataFrame(people)\n",
    "# df = pd.read_csv('survey_results_public.csv', index_col='ResponseId')\n",
    "# schema_df = pd.read_csv('survey_results_schema.csv', index_col='qid')\n",
    "# df czyli data frame tworzymy z bazy danych albo wpisanych manualnie jw lub importując z plików np csv\n",
    "# manualnie robimy to tworząc dictionary {} a wewnątrz wartości w postaci list []\n"
   ]
  },
  {
   "cell_type": "code",
   "execution_count": 2,
   "id": "22eb0426",
   "metadata": {},
   "outputs": [],
   "source": [
    "pd.set_option('display.max_columns', 85)\n",
    "pd.set_option('display.max_rows', 85)\n",
    "# gdy jest duza liczba kolumn/wierszy pandas z default ogranicza ich wyświetlanie, tak możemy to zmienić"
   ]
  },
  {
   "cell_type": "code",
   "execution_count": 3,
   "id": "8dda46b3",
   "metadata": {},
   "outputs": [
    {
     "name": "stdout",
     "output_type": "stream",
     "text": [
      "<class 'pandas.core.frame.DataFrame'>\n",
      "RangeIndex: 4 entries, 0 to 3\n",
      "Data columns (total 3 columns):\n",
      " #   Column      Non-Null Count  Dtype \n",
      "---  ------      --------------  ----- \n",
      " 0   first_name  4 non-null      object\n",
      " 1   last_name   4 non-null      object\n",
      " 2   email       4 non-null      object\n",
      "dtypes: object(3)\n",
      "memory usage: 224.0+ bytes\n"
     ]
    }
   ],
   "source": [
    "# !!! tego typu kod musi być w osobnych komórkach, albo wykonana zostanie tylko ostatnia linia kodu !!!\n",
    "df.columns\n",
    "# wyświetla nazwy kolumn i ich dtype\n",
    "df.shape\n",
    "# pozakuje liczbe kolumn i wierszy\n",
    "# shape jest atribute a nie method więc bez () na końcu\n",
    "df.info()\n",
    "# a to jest method, więc stosujemy ()"
   ]
  },
  {
   "cell_type": "code",
   "execution_count": 5,
   "id": "a73e30d2",
   "metadata": {},
   "outputs": [
    {
     "data": {
      "text/plain": [
       "0       MarkWayne@email.com\n",
       "1    JohnKowalski@email.com\n",
       "2         JaneDoe@email.com\n",
       "3         JohnDoe@email.com\n",
       "Name: email, dtype: object"
      ]
     },
     "execution_count": 5,
     "metadata": {},
     "output_type": "execute_result"
    }
   ],
   "source": [
    "df.head(2)\n",
    "df.tail(2)\n",
    "# wyświetla pierwszych/ostatnich x wierszy. () bez podanej wartośc 5 wierszy\n",
    "df['email']\n",
    "# nawiasy kwadratowe, wyświetla daną kolumnę lub zakres kolumn, wtedy od'x':do'y'"
   ]
  },
  {
   "cell_type": "code",
   "execution_count": 7,
   "id": "1e65d6ee",
   "metadata": {},
   "outputs": [
    {
     "data": {
      "text/plain": [
       "0       MarkWayne@email.com\n",
       "1    JohnKowalski@email.com\n",
       "2         JaneDoe@email.com\n",
       "3         JohnDoe@email.com\n",
       "Name: email, dtype: object"
      ]
     },
     "execution_count": 7,
     "metadata": {},
     "output_type": "execute_result"
    }
   ],
   "source": [
    "df.email\n",
    "# dokładnie ten sam efekt co komenda df['email']"
   ]
  },
  {
   "cell_type": "code",
   "execution_count": 6,
   "id": "6ce89f6d",
   "metadata": {},
   "outputs": [
    {
     "data": {
      "text/plain": [
       "pandas.core.series.Series"
      ]
     },
     "execution_count": 6,
     "metadata": {},
     "output_type": "execute_result"
    }
   ],
   "source": [
    "type(df['email'])"
   ]
  },
  {
   "cell_type": "code",
   "execution_count": null,
   "id": "fb1df0af",
   "metadata": {},
   "outputs": [],
   "source": []
  }
 ],
 "metadata": {
  "kernelspec": {
   "display_name": "Python 3 (ipykernel)",
   "language": "python",
   "name": "python3"
  },
  "language_info": {
   "codemirror_mode": {
    "name": "ipython",
    "version": 3
   },
   "file_extension": ".py",
   "mimetype": "text/x-python",
   "name": "python",
   "nbconvert_exporter": "python",
   "pygments_lexer": "ipython3",
   "version": "3.9.6"
  }
 },
 "nbformat": 4,
 "nbformat_minor": 5
}
