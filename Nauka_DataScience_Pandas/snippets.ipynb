{
 "cells": [
  {
   "cell_type": "code",
   "execution_count": 14,
   "id": "e2852880",
   "metadata": {},
   "outputs": [],
   "source": [
    "people = {\n",
    "    \"first_name\": [\"Mark\", 'John', 'Jane', 'John'], \n",
    "    \"last_name\": [\"Wayne\", 'Kowalski', 'Doe', 'Doe'], \n",
    "    \"email\": ['MarkWayne@email.com', \"JohnKowalski@email.com\", 'JaneDoe@email.com', 'JohnDoe@email.com']\n",
    "}\n",
    "\n",
    "import pandas as pd\n",
    "\n",
    "df = pd.DataFrame(people)\n",
    "# df = pd.read_csv('survey_results_public.csv', index_col='ResponseId')\n",
    "# schema_df = pd.read_csv('survey_results_schema.csv', index_col='qid')\n",
    "# df czyli data frame tworzymy z bazy danych albo wpisanych manualnie jw lub importując z plików np csv\n",
    "# manualnie robimy to tworząc dictionary {} a wewnątrz wartości w postaci list []\n",
    "# index_col='x' ustawia od razu daną kolumne jako index"
   ]
  },
  {
   "cell_type": "code",
   "execution_count": 15,
   "id": "22eb0426",
   "metadata": {},
   "outputs": [],
   "source": [
    "pd.set_option('display.max_columns', 85)\n",
    "\n",
    "pd.set_option('display.max_rows', 85)\n",
    "# gdy jest duza liczba kolumn/wierszy pandas z default ogranicza ich wyświetlanie, tak możemy to zmienić"
   ]
  },
  {
   "cell_type": "code",
   "execution_count": 16,
   "id": "8dda46b3",
   "metadata": {},
   "outputs": [
    {
     "name": "stdout",
     "output_type": "stream",
     "text": [
      "<class 'pandas.core.frame.DataFrame'>\n",
      "RangeIndex: 4 entries, 0 to 3\n",
      "Data columns (total 3 columns):\n",
      " #   Column      Non-Null Count  Dtype \n",
      "---  ------      --------------  ----- \n",
      " 0   first_name  4 non-null      object\n",
      " 1   last_name   4 non-null      object\n",
      " 2   email       4 non-null      object\n",
      "dtypes: object(3)\n",
      "memory usage: 224.0+ bytes\n"
     ]
    }
   ],
   "source": [
    "# !!! tego typu kod musi być w osobnych komórkach, albo wykonana zostanie tylko ostatnia linia kodu !!!\n",
    "\n",
    "df.columns\n",
    "# wyświetla nazwy kolumn i ich dtype\n",
    "\n",
    "df.shape\n",
    "# pozakuje liczbe kolumn i wierszy\n",
    "# shape jest atribute a nie method więc bez () na końcu\n",
    "\n",
    "df.info()\n",
    "# a to jest method, więc stosujemy ()"
   ]
  },
  {
   "cell_type": "code",
   "execution_count": 17,
   "id": "a73e30d2",
   "metadata": {},
   "outputs": [
    {
     "data": {
      "text/html": [
       "<div>\n",
       "<style scoped>\n",
       "    .dataframe tbody tr th:only-of-type {\n",
       "        vertical-align: middle;\n",
       "    }\n",
       "\n",
       "    .dataframe tbody tr th {\n",
       "        vertical-align: top;\n",
       "    }\n",
       "\n",
       "    .dataframe thead th {\n",
       "        text-align: right;\n",
       "    }\n",
       "</style>\n",
       "<table border=\"1\" class=\"dataframe\">\n",
       "  <thead>\n",
       "    <tr style=\"text-align: right;\">\n",
       "      <th></th>\n",
       "      <th>email</th>\n",
       "      <th>last_name</th>\n",
       "    </tr>\n",
       "  </thead>\n",
       "  <tbody>\n",
       "    <tr>\n",
       "      <th>0</th>\n",
       "      <td>MarkWayne@email.com</td>\n",
       "      <td>Wayne</td>\n",
       "    </tr>\n",
       "    <tr>\n",
       "      <th>1</th>\n",
       "      <td>JohnKowalski@email.com</td>\n",
       "      <td>Kowalski</td>\n",
       "    </tr>\n",
       "    <tr>\n",
       "      <th>2</th>\n",
       "      <td>JaneDoe@email.com</td>\n",
       "      <td>Doe</td>\n",
       "    </tr>\n",
       "    <tr>\n",
       "      <th>3</th>\n",
       "      <td>JohnDoe@email.com</td>\n",
       "      <td>Doe</td>\n",
       "    </tr>\n",
       "  </tbody>\n",
       "</table>\n",
       "</div>"
      ],
      "text/plain": [
       "                    email last_name\n",
       "0     MarkWayne@email.com     Wayne\n",
       "1  JohnKowalski@email.com  Kowalski\n",
       "2       JaneDoe@email.com       Doe\n",
       "3       JohnDoe@email.com       Doe"
      ]
     },
     "execution_count": 17,
     "metadata": {},
     "output_type": "execute_result"
    }
   ],
   "source": [
    "df.head(2)\n",
    "\n",
    "df.tail(2)\n",
    "# wyświetla pierwszych/ostatnich x wierszy. () bez podanej wartośc 5 wierszy\n",
    "\n",
    "df[['email', 'last_name']]\n",
    "# podwójne nawiasy kwadratowe, wyświetla daną kolumnę lub zakres kolumn, wtedy od'x':do'y'"
   ]
  },
  {
   "cell_type": "code",
   "execution_count": 18,
   "id": "1e65d6ee",
   "metadata": {},
   "outputs": [
    {
     "data": {
      "text/plain": [
       "0       MarkWayne@email.com\n",
       "1    JohnKowalski@email.com\n",
       "2         JaneDoe@email.com\n",
       "3         JohnDoe@email.com\n",
       "Name: email, dtype: object"
      ]
     },
     "execution_count": 18,
     "metadata": {},
     "output_type": "execute_result"
    }
   ],
   "source": [
    "df.email\n",
    "# dokładnie ten sam efekt co komenda df['email']\n",
    "# wersja df['x'] lepsza, gdyż nazwa kolumny może byc taka sama jak method np df.count"
   ]
  },
  {
   "cell_type": "code",
   "execution_count": 19,
   "id": "6ce89f6d",
   "metadata": {},
   "outputs": [
    {
     "data": {
      "text/plain": [
       "pandas.core.series.Series"
      ]
     },
     "execution_count": 19,
     "metadata": {},
     "output_type": "execute_result"
    }
   ],
   "source": [
    "type(df['email'])"
   ]
  },
  {
   "cell_type": "code",
   "execution_count": 20,
   "id": "a741b493",
   "metadata": {},
   "outputs": [
    {
     "data": {
      "text/html": [
       "<div>\n",
       "<style scoped>\n",
       "    .dataframe tbody tr th:only-of-type {\n",
       "        vertical-align: middle;\n",
       "    }\n",
       "\n",
       "    .dataframe tbody tr th {\n",
       "        vertical-align: top;\n",
       "    }\n",
       "\n",
       "    .dataframe thead th {\n",
       "        text-align: right;\n",
       "    }\n",
       "</style>\n",
       "<table border=\"1\" class=\"dataframe\">\n",
       "  <thead>\n",
       "    <tr style=\"text-align: right;\">\n",
       "      <th></th>\n",
       "      <th>email</th>\n",
       "      <th>last_name</th>\n",
       "    </tr>\n",
       "  </thead>\n",
       "  <tbody>\n",
       "    <tr>\n",
       "      <th>1</th>\n",
       "      <td>JohnKowalski@email.com</td>\n",
       "      <td>Kowalski</td>\n",
       "    </tr>\n",
       "    <tr>\n",
       "      <th>2</th>\n",
       "      <td>JaneDoe@email.com</td>\n",
       "      <td>Doe</td>\n",
       "    </tr>\n",
       "  </tbody>\n",
       "</table>\n",
       "</div>"
      ],
      "text/plain": [
       "                    email last_name\n",
       "1  JohnKowalski@email.com  Kowalski\n",
       "2       JaneDoe@email.com       Doe"
      ]
     },
     "execution_count": 20,
     "metadata": {},
     "output_type": "execute_result"
    }
   ],
   "source": [
    "df.iloc[[2]]\n",
    "# sposób na wydostanie wartości danego wiersza\n",
    "# w [] podajemy wartość indexu, indexem może być str np mail, wtedy df.iloc[JaneDoe@email.com]\n",
    "\n",
    "df.iloc[[1, 2], 1]\n",
    "# wyświetlanie danych wierszy w danych kolumnach, najpierw wiersze, potem kolumny\n",
    "\n",
    "df.loc[[1, 2], ['email', 'last_name']]\n",
    "# działa jak df.iloc ale podaje się nazwę(str) indexu(wiersza) i kolumny\n",
    "\n",
    "df.loc[1:2, ['email', 'last_name']]\n",
    "# gdy podajemy zakres wierszy/kolumn to nie jest to dodatkowa lista, więc [] mniej"
   ]
  },
  {
   "cell_type": "code",
   "execution_count": 21,
   "id": "75c0db87",
   "metadata": {},
   "outputs": [
    {
     "data": {
      "text/plain": [
       "John    2\n",
       "Mark    1\n",
       "Jane    1\n",
       "Name: first_name, dtype: int64"
      ]
     },
     "execution_count": 21,
     "metadata": {},
     "output_type": "execute_result"
    }
   ],
   "source": [
    "df['first_name'].value_counts()\n",
    "# podlicza ilość tych samych wartości w kolumnie x"
   ]
  },
  {
   "cell_type": "code",
   "execution_count": 22,
   "id": "56b6591f",
   "metadata": {},
   "outputs": [
    {
     "data": {
      "text/html": [
       "<div>\n",
       "<style scoped>\n",
       "    .dataframe tbody tr th:only-of-type {\n",
       "        vertical-align: middle;\n",
       "    }\n",
       "\n",
       "    .dataframe tbody tr th {\n",
       "        vertical-align: top;\n",
       "    }\n",
       "\n",
       "    .dataframe thead th {\n",
       "        text-align: right;\n",
       "    }\n",
       "</style>\n",
       "<table border=\"1\" class=\"dataframe\">\n",
       "  <thead>\n",
       "    <tr style=\"text-align: right;\">\n",
       "      <th></th>\n",
       "      <th>first_name</th>\n",
       "      <th>last_name</th>\n",
       "    </tr>\n",
       "    <tr>\n",
       "      <th>email</th>\n",
       "      <th></th>\n",
       "      <th></th>\n",
       "    </tr>\n",
       "  </thead>\n",
       "  <tbody>\n",
       "    <tr>\n",
       "      <th>MarkWayne@email.com</th>\n",
       "      <td>Mark</td>\n",
       "      <td>Wayne</td>\n",
       "    </tr>\n",
       "    <tr>\n",
       "      <th>JohnKowalski@email.com</th>\n",
       "      <td>John</td>\n",
       "      <td>Kowalski</td>\n",
       "    </tr>\n",
       "    <tr>\n",
       "      <th>JaneDoe@email.com</th>\n",
       "      <td>Jane</td>\n",
       "      <td>Doe</td>\n",
       "    </tr>\n",
       "    <tr>\n",
       "      <th>JohnDoe@email.com</th>\n",
       "      <td>John</td>\n",
       "      <td>Doe</td>\n",
       "    </tr>\n",
       "  </tbody>\n",
       "</table>\n",
       "</div>"
      ],
      "text/plain": [
       "                       first_name last_name\n",
       "email                                      \n",
       "MarkWayne@email.com          Mark     Wayne\n",
       "JohnKowalski@email.com       John  Kowalski\n",
       "JaneDoe@email.com            Jane       Doe\n",
       "JohnDoe@email.com            John       Doe"
      ]
     },
     "execution_count": 22,
     "metadata": {},
     "output_type": "execute_result"
    }
   ],
   "source": [
    "df.set_index(['email'], inplace=True)\n",
    "# ustawianie danej kolumny jako index, pomocne przy funkcjach df.loc[[]]\n",
    "# inplace=True zapisuje zmiany w dataframe\n",
    "df"
   ]
  },
  {
   "cell_type": "code",
   "execution_count": 23,
   "id": "431d02a4",
   "metadata": {},
   "outputs": [
    {
     "data": {
      "text/plain": [
       "Index(['MarkWayne@email.com', 'JohnKowalski@email.com', 'JaneDoe@email.com',\n",
       "       'JohnDoe@email.com'],\n",
       "      dtype='object', name='email')"
      ]
     },
     "execution_count": 23,
     "metadata": {},
     "output_type": "execute_result"
    }
   ],
   "source": [
    "df.index\n"
   ]
  },
  {
   "cell_type": "code",
   "execution_count": 24,
   "id": "f5aad25f",
   "metadata": {},
   "outputs": [
    {
     "data": {
      "text/html": [
       "<div>\n",
       "<style scoped>\n",
       "    .dataframe tbody tr th:only-of-type {\n",
       "        vertical-align: middle;\n",
       "    }\n",
       "\n",
       "    .dataframe tbody tr th {\n",
       "        vertical-align: top;\n",
       "    }\n",
       "\n",
       "    .dataframe thead th {\n",
       "        text-align: right;\n",
       "    }\n",
       "</style>\n",
       "<table border=\"1\" class=\"dataframe\">\n",
       "  <thead>\n",
       "    <tr style=\"text-align: right;\">\n",
       "      <th></th>\n",
       "      <th>first_name</th>\n",
       "      <th>last_name</th>\n",
       "    </tr>\n",
       "    <tr>\n",
       "      <th>email</th>\n",
       "      <th></th>\n",
       "      <th></th>\n",
       "    </tr>\n",
       "  </thead>\n",
       "  <tbody>\n",
       "    <tr>\n",
       "      <th>MarkWayne@email.com</th>\n",
       "      <td>Mark</td>\n",
       "      <td>Wayne</td>\n",
       "    </tr>\n",
       "    <tr>\n",
       "      <th>JohnKowalski@email.com</th>\n",
       "      <td>John</td>\n",
       "      <td>Kowalski</td>\n",
       "    </tr>\n",
       "    <tr>\n",
       "      <th>JohnDoe@email.com</th>\n",
       "      <td>John</td>\n",
       "      <td>Doe</td>\n",
       "    </tr>\n",
       "    <tr>\n",
       "      <th>JaneDoe@email.com</th>\n",
       "      <td>Jane</td>\n",
       "      <td>Doe</td>\n",
       "    </tr>\n",
       "  </tbody>\n",
       "</table>\n",
       "</div>"
      ],
      "text/plain": [
       "                       first_name last_name\n",
       "email                                      \n",
       "MarkWayne@email.com          Mark     Wayne\n",
       "JohnKowalski@email.com       John  Kowalski\n",
       "JohnDoe@email.com            John       Doe\n",
       "JaneDoe@email.com            Jane       Doe"
      ]
     },
     "execution_count": 24,
     "metadata": {},
     "output_type": "execute_result"
    }
   ],
   "source": [
    "df.sort_index(ascending=False)\n",
    "# szereguje index alfabetycznie (), trzeba dodać inplace=True by zmiany były pernamentne "
   ]
  },
  {
   "cell_type": "code",
   "execution_count": 25,
   "id": "71c7e237",
   "metadata": {},
   "outputs": [
    {
     "data": {
      "text/html": [
       "<div>\n",
       "<style scoped>\n",
       "    .dataframe tbody tr th:only-of-type {\n",
       "        vertical-align: middle;\n",
       "    }\n",
       "\n",
       "    .dataframe tbody tr th {\n",
       "        vertical-align: top;\n",
       "    }\n",
       "\n",
       "    .dataframe thead th {\n",
       "        text-align: right;\n",
       "    }\n",
       "</style>\n",
       "<table border=\"1\" class=\"dataframe\">\n",
       "  <thead>\n",
       "    <tr style=\"text-align: right;\">\n",
       "      <th></th>\n",
       "      <th>email</th>\n",
       "      <th>first_name</th>\n",
       "      <th>last_name</th>\n",
       "    </tr>\n",
       "  </thead>\n",
       "  <tbody>\n",
       "    <tr>\n",
       "      <th>0</th>\n",
       "      <td>MarkWayne@email.com</td>\n",
       "      <td>Mark</td>\n",
       "      <td>Wayne</td>\n",
       "    </tr>\n",
       "    <tr>\n",
       "      <th>1</th>\n",
       "      <td>JohnKowalski@email.com</td>\n",
       "      <td>John</td>\n",
       "      <td>Kowalski</td>\n",
       "    </tr>\n",
       "    <tr>\n",
       "      <th>2</th>\n",
       "      <td>JaneDoe@email.com</td>\n",
       "      <td>Jane</td>\n",
       "      <td>Doe</td>\n",
       "    </tr>\n",
       "    <tr>\n",
       "      <th>3</th>\n",
       "      <td>JohnDoe@email.com</td>\n",
       "      <td>John</td>\n",
       "      <td>Doe</td>\n",
       "    </tr>\n",
       "  </tbody>\n",
       "</table>\n",
       "</div>"
      ],
      "text/plain": [
       "                    email first_name last_name\n",
       "0     MarkWayne@email.com       Mark     Wayne\n",
       "1  JohnKowalski@email.com       John  Kowalski\n",
       "2       JaneDoe@email.com       Jane       Doe\n",
       "3       JohnDoe@email.com       John       Doe"
      ]
     },
     "execution_count": 25,
     "metadata": {},
     "output_type": "execute_result"
    }
   ],
   "source": [
    "df.reset_index(inplace=True)\n",
    "# przywraca numeryczny index\n",
    "df"
   ]
  },
  {
   "cell_type": "code",
   "execution_count": 30,
   "id": "485b2e44",
   "metadata": {},
   "outputs": [
    {
     "data": {
      "text/html": [
       "<div>\n",
       "<style scoped>\n",
       "    .dataframe tbody tr th:only-of-type {\n",
       "        vertical-align: middle;\n",
       "    }\n",
       "\n",
       "    .dataframe tbody tr th {\n",
       "        vertical-align: top;\n",
       "    }\n",
       "\n",
       "    .dataframe thead th {\n",
       "        text-align: right;\n",
       "    }\n",
       "</style>\n",
       "<table border=\"1\" class=\"dataframe\">\n",
       "  <thead>\n",
       "    <tr style=\"text-align: right;\">\n",
       "      <th></th>\n",
       "      <th>email</th>\n",
       "      <th>first_name</th>\n",
       "      <th>last_name</th>\n",
       "    </tr>\n",
       "  </thead>\n",
       "  <tbody>\n",
       "    <tr>\n",
       "      <th>2</th>\n",
       "      <td>JaneDoe@email.com</td>\n",
       "      <td>Jane</td>\n",
       "      <td>Doe</td>\n",
       "    </tr>\n",
       "    <tr>\n",
       "      <th>3</th>\n",
       "      <td>JohnDoe@email.com</td>\n",
       "      <td>John</td>\n",
       "      <td>Doe</td>\n",
       "    </tr>\n",
       "  </tbody>\n",
       "</table>\n",
       "</div>"
      ],
      "text/plain": [
       "               email first_name last_name\n",
       "2  JaneDoe@email.com       Jane       Doe\n",
       "3  JohnDoe@email.com       John       Doe"
      ]
     },
     "execution_count": 30,
     "metadata": {},
     "output_type": "execute_result"
    }
   ],
   "source": [
    "filt = (df['last_name'] == 'Doe')\n",
    "df[filt]\n",
    "# metody filtrowania dataframe\n",
    "# inna mozliwość zapisu:\n",
    "# df.loc[filt]    \n",
    "# df[df['last_name'] == 'Doe'] "
   ]
  },
  {
   "cell_type": "code",
   "execution_count": 32,
   "id": "a2e4fd6c",
   "metadata": {},
   "outputs": [
    {
     "data": {
      "text/html": [
       "<div>\n",
       "<style scoped>\n",
       "    .dataframe tbody tr th:only-of-type {\n",
       "        vertical-align: middle;\n",
       "    }\n",
       "\n",
       "    .dataframe tbody tr th {\n",
       "        vertical-align: top;\n",
       "    }\n",
       "\n",
       "    .dataframe thead th {\n",
       "        text-align: right;\n",
       "    }\n",
       "</style>\n",
       "<table border=\"1\" class=\"dataframe\">\n",
       "  <thead>\n",
       "    <tr style=\"text-align: right;\">\n",
       "      <th></th>\n",
       "      <th>email</th>\n",
       "      <th>first_name</th>\n",
       "      <th>last_name</th>\n",
       "    </tr>\n",
       "  </thead>\n",
       "  <tbody>\n",
       "    <tr>\n",
       "      <th>2</th>\n",
       "      <td>JaneDoe@email.com</td>\n",
       "      <td>Jane</td>\n",
       "      <td>Doe</td>\n",
       "    </tr>\n",
       "    <tr>\n",
       "      <th>3</th>\n",
       "      <td>JohnDoe@email.com</td>\n",
       "      <td>John</td>\n",
       "      <td>Doe</td>\n",
       "    </tr>\n",
       "  </tbody>\n",
       "</table>\n",
       "</div>"
      ],
      "text/plain": [
       "               email first_name last_name\n",
       "2  JaneDoe@email.com       Jane       Doe\n",
       "3  JohnDoe@email.com       John       Doe"
      ]
     },
     "execution_count": 32,
     "metadata": {},
     "output_type": "execute_result"
    }
   ],
   "source": [
    "df[df['last_name'] == 'Doe']\n",
    "# filtrowanie, inna mozliwość zapisu"
   ]
  },
  {
   "cell_type": "code",
   "execution_count": 31,
   "id": "ca9c4446",
   "metadata": {},
   "outputs": [
    {
     "data": {
      "text/html": [
       "<div>\n",
       "<style scoped>\n",
       "    .dataframe tbody tr th:only-of-type {\n",
       "        vertical-align: middle;\n",
       "    }\n",
       "\n",
       "    .dataframe tbody tr th {\n",
       "        vertical-align: top;\n",
       "    }\n",
       "\n",
       "    .dataframe thead th {\n",
       "        text-align: right;\n",
       "    }\n",
       "</style>\n",
       "<table border=\"1\" class=\"dataframe\">\n",
       "  <thead>\n",
       "    <tr style=\"text-align: right;\">\n",
       "      <th></th>\n",
       "      <th>email</th>\n",
       "      <th>first_name</th>\n",
       "      <th>last_name</th>\n",
       "    </tr>\n",
       "  </thead>\n",
       "  <tbody>\n",
       "    <tr>\n",
       "      <th>2</th>\n",
       "      <td>JaneDoe@email.com</td>\n",
       "      <td>Jane</td>\n",
       "      <td>Doe</td>\n",
       "    </tr>\n",
       "    <tr>\n",
       "      <th>3</th>\n",
       "      <td>JohnDoe@email.com</td>\n",
       "      <td>John</td>\n",
       "      <td>Doe</td>\n",
       "    </tr>\n",
       "  </tbody>\n",
       "</table>\n",
       "</div>"
      ],
      "text/plain": [
       "               email first_name last_name\n",
       "2  JaneDoe@email.com       Jane       Doe\n",
       "3  JohnDoe@email.com       John       Doe"
      ]
     },
     "execution_count": 31,
     "metadata": {},
     "output_type": "execute_result"
    }
   ],
   "source": [
    "df.loc[filt]\n",
    "# filtrowanie, inna mozliwość zapisu"
   ]
  },
  {
   "cell_type": "code",
   "execution_count": null,
   "id": "6e4b69f9",
   "metadata": {},
   "outputs": [],
   "source": []
  }
 ],
 "metadata": {
  "kernelspec": {
   "display_name": "Python 3 (ipykernel)",
   "language": "python",
   "name": "python3"
  },
  "language_info": {
   "codemirror_mode": {
    "name": "ipython",
    "version": 3
   },
   "file_extension": ".py",
   "mimetype": "text/x-python",
   "name": "python",
   "nbconvert_exporter": "python",
   "pygments_lexer": "ipython3",
   "version": "3.9.6"
  }
 },
 "nbformat": 4,
 "nbformat_minor": 5
}
