{
 "cells": [
  {
   "cell_type": "code",
   "execution_count": null,
   "id": "ef35d688",
   "metadata": {},
   "outputs": [],
   "source": [
    "people = {\n",
    "    \"first_name\": [\"Mark\", 'John', 'Jane', 'John'], \n",
    "    \"last_name\": [\"Wayne\", 'Kowalski', 'Doe', 'Doe'], \n",
    "    \"email\": ['MarkWayne@email.com', \"JohnKowalski@email.com\", 'JaneDoe@email.com', 'JohnDoe@email.com']\n",
    "}"
   ]
  }
 ],
 "metadata": {
  "kernelspec": {
   "display_name": "Python 3 (ipykernel)",
   "language": "python",
   "name": "python3"
  },
  "language_info": {
   "codemirror_mode": {
    "name": "ipython",
    "version": 3
   },
   "file_extension": ".py",
   "mimetype": "text/x-python",
   "name": "python",
   "nbconvert_exporter": "python",
   "pygments_lexer": "ipython3",
   "version": "3.9.6"
  }
 },
 "nbformat": 4,
 "nbformat_minor": 5
}
